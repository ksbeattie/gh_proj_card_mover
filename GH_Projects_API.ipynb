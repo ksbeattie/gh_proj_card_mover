{
 "cells": [
  {
   "cell_type": "markdown",
   "metadata": {},
   "source": [
    "# My attempt to move issues between project boards\n",
    "## References:\n",
    "https://developer.github.com/v3/guides/getting-started/\n",
    "\n",
    "https://developer.github.com/v3/"
   ]
  },
  {
   "cell_type": "code",
   "execution_count": null,
   "metadata": {},
   "outputs": [],
   "source": [
    "import requests\n",
    "import json"
   ]
  },
  {
   "cell_type": "code",
   "execution_count": null,
   "metadata": {},
   "outputs": [],
   "source": [
    "sess = requests.Session()"
   ]
  },
  {
   "cell_type": "code",
   "execution_count": null,
   "metadata": {},
   "outputs": [],
   "source": [
    "sess.headers['Authorization'] = 'token <personal token here>'\n",
    "sess.headers['Accept'] = 'application/vnd.github.inertia-preview+json'  # to use beta project api"
   ]
  },
  {
   "cell_type": "code",
   "execution_count": null,
   "metadata": {},
   "outputs": [],
   "source": [
    "sess.headers"
   ]
  },
  {
   "cell_type": "code",
   "execution_count": null,
   "metadata": {},
   "outputs": [],
   "source": [
    "res = sess.get('https://api.github.com/user')\n",
    "res.ok"
   ]
  },
  {
   "cell_type": "code",
   "execution_count": null,
   "metadata": {},
   "outputs": [],
   "source": [
    "user_info = res.json()\n",
    "user_info"
   ]
  },
  {
   "cell_type": "code",
   "execution_count": null,
   "metadata": {},
   "outputs": [],
   "source": [
    "# List projects (org-level projects who up using \"/repos/\" api:\n",
    "res = sess.get('https://api.github.com/repos/ksbeattie/api_fun/projects')\n",
    "res.ok"
   ]
  },
  {
   "cell_type": "code",
   "execution_count": null,
   "metadata": {},
   "outputs": [],
   "source": [
    "res.json()"
   ]
  },
  {
   "cell_type": "code",
   "execution_count": null,
   "metadata": {},
   "outputs": [],
   "source": [
    "# A list of project dictionaries\n",
    "projs = res.json()\n",
    "len(projs)"
   ]
  },
  {
   "cell_type": "code",
   "execution_count": null,
   "metadata": {},
   "outputs": [],
   "source": [
    "for proj in projs:\n",
    "    print('name: {name:20} #: {number:<3} id: {id}'.format(**proj))"
   ]
  },
  {
   "cell_type": "code",
   "execution_count": null,
   "metadata": {},
   "outputs": [],
   "source": [
    "# Get the columns from the project\n",
    "proj = projs[1]\n",
    "res = sess.get(proj['columns_url'])\n",
    "res.ok"
   ]
  },
  {
   "cell_type": "code",
   "execution_count": null,
   "metadata": {},
   "outputs": [],
   "source": [
    "res.json()"
   ]
  },
  {
   "cell_type": "code",
   "execution_count": null,
   "metadata": {},
   "outputs": [],
   "source": [
    "# List the columns\n",
    "cols = res.json()\n",
    "for col in cols:\n",
    "    print('column: {name:20} #: id: {id}'.format(**col))"
   ]
  },
  {
   "cell_type": "code",
   "execution_count": null,
   "metadata": {},
   "outputs": [],
   "source": [
    "# Get the cards from the 0th column\n",
    "col = cols[0]\n",
    "res = sess.get(col['cards_url'])\n",
    "res.ok"
   ]
  },
  {
   "cell_type": "code",
   "execution_count": null,
   "metadata": {},
   "outputs": [],
   "source": [
    "# list the cards\n",
    "cards = res.json()\n",
    "for card in cards:\n",
    "    print('card: {id}'.format(**card))\n",
    "    print('  {}'.format(card.get('content_url', card['note'])))"
   ]
  },
  {
   "cell_type": "code",
   "execution_count": null,
   "metadata": {},
   "outputs": [],
   "source": [
    "# Get the 0th card\n",
    "card = cards[2]\n",
    "card"
   ]
  },
  {
   "cell_type": "code",
   "execution_count": null,
   "metadata": {},
   "outputs": [],
   "source": [
    "# A card is either a note (where 'note' is not None) or an issue (with a 'content_url')\n",
    "if card['note']:\n",
    "    print('note only: \"{}\"'.format(card['note']))  # We're done digging down in the API\n",
    "else:\n",
    "    res = sess.get(card['content_url'])\n",
    "    print('Issue: {}'.format(res.ok))"
   ]
  },
  {
   "cell_type": "code",
   "execution_count": null,
   "metadata": {},
   "outputs": [],
   "source": [
    "issue = res.json()\n",
    "issue"
   ]
  },
  {
   "cell_type": "code",
   "execution_count": null,
   "metadata": {},
   "outputs": [],
   "source": [
    "# An issue is either just an issue (no more digging) or a PR (with a 'pull_request')\n",
    "if 'pull_request' in issue.keys():\n",
    "    res = sess.get(issue['pull_request']['url'])\n",
    "    print('PR: {}'.format(res.ok))\n",
    "    pullr = res.json()\n",
    "else:\n",
    "    print('Issue only: \"{}\"'.format(issue['body']))"
   ]
  },
  {
   "cell_type": "code",
   "execution_count": null,
   "metadata": {},
   "outputs": [],
   "source": [
    "pullr"
   ]
  },
  {
   "cell_type": "code",
   "execution_count": null,
   "metadata": {},
   "outputs": [],
   "source": [
    "# Create a new note card\n",
    "card_info = {'note': 'This is a new note'}\n",
    "res = sess.post('https://api.github.com/projects/columns/3722510/cards',\n",
    "                data=json.dumps(card_info)\n",
    "               )\n",
    "res.ok"
   ]
  },
  {
   "cell_type": "code",
   "execution_count": null,
   "metadata": {},
   "outputs": [],
   "source": [
    "res.json()"
   ]
  },
  {
   "cell_type": "code",
   "execution_count": null,
   "metadata": {},
   "outputs": [],
   "source": [
    "# Create pr\n",
    "res = sess.get('https://api.github.com/repos/ksbeattie/api_fun/pulls/3')\n",
    "res.ok"
   ]
  },
  {
   "cell_type": "code",
   "execution_count": null,
   "metadata": {},
   "outputs": [],
   "source": [
    "res.json()"
   ]
  },
  {
   "cell_type": "code",
   "execution_count": null,
   "metadata": {},
   "outputs": [],
   "source": [
    "res = sess.delete(card['url'][:-1])\n",
    "res.ok"
   ]
  },
  {
   "cell_type": "code",
   "execution_count": null,
   "metadata": {},
   "outputs": [],
   "source": [
    "res.content"
   ]
  },
  {
   "cell_type": "code",
   "execution_count": null,
   "metadata": {},
   "outputs": [],
   "source": []
  }
 ],
 "metadata": {
  "kernelspec": {
   "display_name": "Python 3",
   "language": "python",
   "name": "python3"
  },
  "language_info": {
   "codemirror_mode": {
    "name": "ipython",
    "version": 3
   },
   "file_extension": ".py",
   "mimetype": "text/x-python",
   "name": "python",
   "nbconvert_exporter": "python",
   "pygments_lexer": "ipython3",
   "version": "3.6.5"
  }
 },
 "nbformat": 4,
 "nbformat_minor": 2
}
